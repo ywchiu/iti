{
 "cells": [
  {
   "cell_type": "code",
   "execution_count": 4,
   "metadata": {
    "collapsed": false
   },
   "outputs": [
    {
     "name": "stderr",
     "output_type": "stream",
     "text": [
      "C:\\Anaconda3\\lib\\site-packages\\requests\\packages\\urllib3\\connectionpool.py:821: InsecureRequestWarning: Unverified HTTPS request is being made. Adding certificate verification is strongly advised. See: https://urllib3.readthedocs.org/en/latest/security.html\n",
      "  InsecureRequestWarning)\n"
     ]
    }
   ],
   "source": [
    "import requests\n",
    "res = requests.get('https://www.mof.gov.tw/Pages/Detail.aspx?nodeid=281&pid=72221', verify=False)\n",
    "#res.text"
   ]
  },
  {
   "cell_type": "code",
   "execution_count": 5,
   "metadata": {
    "collapsed": true
   },
   "outputs": [],
   "source": [
    "from bs4 import BeautifulSoup\n",
    "soup = BeautifulSoup(res.text, 'html.parser')"
   ]
  },
  {
   "cell_type": "code",
   "execution_count": 10,
   "metadata": {
    "collapsed": false
   },
   "outputs": [
    {
     "name": "stdout",
     "output_type": "stream",
     "text": [
      "http://www.mof.gov.tw/File/Attach/72221/File_8550.xls\n",
      "http://www.mof.gov.tw/File/Attach/72221/File_8552.xls\n",
      "http://www.mof.gov.tw/File/Attach/72221/File_8554.xls\n",
      "http://www.mof.gov.tw/File/Attach/72221/File_8556.xls\n",
      "http://www.mof.gov.tw/File/Attach/72221/File_8558.xls\n",
      "http://www.mof.gov.tw/File/Attach/72221/File_8560.xls\n",
      "http://www.mof.gov.tw/File/Attach/72221/File_8562.xls\n",
      "http://www.mof.gov.tw/File/Attach/72221/File_8564.xls\n",
      "http://www.mof.gov.tw/File/Attach/72221/File_8566.xls\n",
      "http://www.mof.gov.tw/File/Attach/72221/File_8568.xls\n",
      "http://www.mof.gov.tw/File/Attach/72221/File_8570.xls\n",
      "http://www.mof.gov.tw/File/Attach/72221/File_8572.xls\n",
      "http://www.mof.gov.tw/File/Attach/72221/File_8574.xls\n"
     ]
    }
   ],
   "source": [
    "for a in soup.select('ol ol a'):\n",
    "    if '.xls' in a['href']:\n",
    "        print(a['href'])"
   ]
  },
  {
   "cell_type": "code",
   "execution_count": 11,
   "metadata": {
    "collapsed": true
   },
   "outputs": [],
   "source": [
    "res = requests.get('http://www.mof.gov.tw/File/Attach/72221/File_8550.xls')\n",
    "with open('File_8550.xls', 'wb') as f:\n",
    "    f.write(res.content)"
   ]
  },
  {
   "cell_type": "code",
   "execution_count": 13,
   "metadata": {
    "collapsed": false
   },
   "outputs": [],
   "source": [
    "res2 = requests.get('http://www.comicbus.com/pics/0/103.jpg')\n",
    "with open('1.jpg', 'wb') as f:    \n",
    "    f.write(res2.content)"
   ]
  },
  {
   "cell_type": "code",
   "execution_count": 18,
   "metadata": {
    "collapsed": false
   },
   "outputs": [
    {
     "data": {
      "text/plain": [
       "'File_8550.xls'"
      ]
     },
     "execution_count": 18,
     "metadata": {},
     "output_type": "execute_result"
    }
   ],
   "source": [
    "f = 'http://www.mof.gov.tw/File/Attach/72221/File_8550.xls'\n",
    "ary = f.split('/')\n",
    "ary[-1]"
   ]
  },
  {
   "cell_type": "code",
   "execution_count": 20,
   "metadata": {
    "collapsed": false
   },
   "outputs": [],
   "source": [
    "def fileDownload(fileurl):\n",
    "    res = requests.get(fileurl)\n",
    "    filename = fileurl.split('/')[-1]\n",
    "    with open(filename, 'wb') as f:\n",
    "        f.write(res.content)\n",
    "        \n",
    "fileDownload('http://www.mof.gov.tw/File/Attach/72221/File_8550.xls')"
   ]
  },
  {
   "cell_type": "code",
   "execution_count": 21,
   "metadata": {
    "collapsed": true
   },
   "outputs": [],
   "source": [
    "for a in soup.select('ol ol a'):\n",
    "    if '.xls' in a['href']:\n",
    "        fileDownload(a['href'])"
   ]
  },
  {
   "cell_type": "markdown",
   "metadata": {},
   "source": [
    "## 完整的財政部爬蟲範例 "
   ]
  },
  {
   "cell_type": "code",
   "execution_count": null,
   "metadata": {
    "collapsed": true
   },
   "outputs": [],
   "source": [
    "import requests\n",
    "from bs4 import BeautifulSoup\n",
    "\n",
    "def fileDownload(fileurl):\n",
    "    res = requests.get(fileurl)\n",
    "    filename = fileurl.split('/')[-1]\n",
    "    with open(filename, 'wb') as f:\n",
    "        f.write(res.content)\n",
    "        \n",
    "res = requests.get('https://www.mof.gov.tw/Pages/Detail.aspx?nodeid=281&pid=72221', verify=False)\n",
    "soup = BeautifulSoup(res.text, 'html.parser')\n",
    "for a in soup.select('ol ol a'):\n",
    "    if '.xls' in a['href']:\n",
    "        fileDownload(a['href'])"
   ]
  }
 ],
 "metadata": {
  "anaconda-cloud": {},
  "kernelspec": {
   "display_name": "Python [Root]",
   "language": "python",
   "name": "Python [Root]"
  },
  "language_info": {
   "codemirror_mode": {
    "name": "ipython",
    "version": 3
   },
   "file_extension": ".py",
   "mimetype": "text/x-python",
   "name": "python",
   "nbconvert_exporter": "python",
   "pygments_lexer": "ipython3",
   "version": "3.5.2"
  }
 },
 "nbformat": 4,
 "nbformat_minor": 0
}
