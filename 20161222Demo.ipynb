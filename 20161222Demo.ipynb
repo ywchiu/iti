{
 "cells": [
  {
   "cell_type": "markdown",
   "metadata": {},
   "source": [
    "## 第一個網路爬蟲"
   ]
  },
  {
   "cell_type": "code",
   "execution_count": 2,
   "metadata": {
    "collapsed": false
   },
   "outputs": [
    {
     "name": "stderr",
     "output_type": "stream",
     "text": [
      "C:\\Anaconda3\\lib\\site-packages\\requests\\packages\\urllib3\\connectionpool.py:821: InsecureRequestWarning: Unverified HTTPS request is being made. Adding certificate verification is strongly advised. See: https://urllib3.readthedocs.org/en/latest/security.html\n",
      "  InsecureRequestWarning)\n"
     ]
    }
   ],
   "source": [
    "import requests\n",
    "res = requests.get('https://www.mof.gov.tw/Pages/Detail.aspx?nodeid=281&pid=72221', verify=False)"
   ]
  },
  {
   "cell_type": "code",
   "execution_count": 8,
   "metadata": {
    "collapsed": false
   },
   "outputs": [
    {
     "name": "stdout",
     "output_type": "stream",
     "text": [
      "<class 'requests.models.Response'>\n"
     ]
    }
   ],
   "source": [
    "#print(res.text)\n",
    "print(type(res))"
   ]
  },
  {
   "cell_type": "markdown",
   "metadata": {},
   "source": [
    "## 使用BeautifulSoup4"
   ]
  },
  {
   "cell_type": "code",
   "execution_count": 6,
   "metadata": {
    "collapsed": true
   },
   "outputs": [],
   "source": [
    "html_sample = '''\n",
    "<html> \n",
    " <body> \n",
    " <h1 id=\"title\">Hello World</h1> \n",
    " <a href=\"http://www.largitdata.com\" class=\"link\">This is link1</a> \n",
    " <a href=\"# link2\" class=\"link\">This is link2</a> \n",
    " </body> \n",
    "</html>\n",
    "'''"
   ]
  },
  {
   "cell_type": "code",
   "execution_count": 19,
   "metadata": {
    "collapsed": false
   },
   "outputs": [
    {
     "name": "stdout",
     "output_type": "stream",
     "text": [
      "David\n",
      "John\n"
     ]
    }
   ],
   "source": [
    "name = 'David'\n",
    "names = ['David', 'Marry', 'John']\n",
    "print(names[0])\n",
    "print(names[2])"
   ]
  },
  {
   "cell_type": "code",
   "execution_count": 9,
   "metadata": {
    "collapsed": false
   },
   "outputs": [
    {
     "name": "stdout",
     "output_type": "stream",
     "text": [
      "<class 'bs4.BeautifulSoup'>\n"
     ]
    }
   ],
   "source": [
    "from bs4 import BeautifulSoup\n",
    "soup = BeautifulSoup(html_sample, 'html.parser')\n",
    "#print(soup.text)\n",
    "print(type(soup))"
   ]
  },
  {
   "cell_type": "code",
   "execution_count": 17,
   "metadata": {
    "collapsed": false
   },
   "outputs": [
    {
     "name": "stdout",
     "output_type": "stream",
     "text": [
      "[<h1 id=\"title\">Hello World</h1>]\n",
      "<class 'list'>\n",
      "<h1 id=\"title\">Hello World</h1>\n",
      "<class 'bs4.element.Tag'>\n",
      "Hello World\n"
     ]
    }
   ],
   "source": [
    "li = soup.select('h1')\n",
    "print(li)\n",
    "print(type(li))\n",
    "print(li[0])\n",
    "print(type(li[0]))\n",
    "print(li[0].text)"
   ]
  },
  {
   "cell_type": "code",
   "execution_count": 23,
   "metadata": {
    "collapsed": false
   },
   "outputs": [
    {
     "name": "stdout",
     "output_type": "stream",
     "text": [
      "[<a class=\"link\" href=\"http://www.largitdata.com\">This is link1</a>, <a class=\"link\" href=\"# link2\">This is link2</a>]\n",
      "<class 'list'>\n",
      "<a class=\"link\" href=\"# link2\">This is link2</a>\n",
      "<class 'bs4.element.Tag'>\n",
      "This is link2\n"
     ]
    }
   ],
   "source": [
    "a = soup.select('a')\n",
    "print(a)\n",
    "print(type(a))\n",
    "print(a[1])\n",
    "print(type(a[1]))\n",
    "print(a[1].text)"
   ]
  },
  {
   "cell_type": "code",
   "execution_count": 27,
   "metadata": {
    "collapsed": false
   },
   "outputs": [
    {
     "name": "stdout",
     "output_type": "stream",
     "text": [
      "http://www.largitdata.com\n",
      "# link2\n"
     ]
    }
   ],
   "source": [
    "for a in soup.select('a'):\n",
    "    #print(a)\n",
    "    #print(a.text)\n",
    "    print(a['href'])"
   ]
  },
  {
   "cell_type": "markdown",
   "metadata": {},
   "source": [
    "## 根據CSS 屬性選擇"
   ]
  },
  {
   "cell_type": "code",
   "execution_count": 29,
   "metadata": {
    "collapsed": false
   },
   "outputs": [
    {
     "data": {
      "text/plain": [
       "[<h1 id=\"title\">Hello World</h1>]"
      ]
     },
     "execution_count": 29,
     "metadata": {},
     "output_type": "execute_result"
    }
   ],
   "source": [
    "# id => #\n",
    "soup.select('#title')"
   ]
  },
  {
   "cell_type": "code",
   "execution_count": 32,
   "metadata": {
    "collapsed": false
   },
   "outputs": [
    {
     "data": {
      "text/plain": [
       "[<a class=\"link\" href=\"http://www.largitdata.com\">This is link1</a>,\n",
       " <a class=\"link\" href=\"# link2\">This is link2</a>]"
      ]
     },
     "execution_count": 32,
     "metadata": {},
     "output_type": "execute_result"
    }
   ],
   "source": [
    "# class => .\n",
    "soup.select('.link')"
   ]
  },
  {
   "cell_type": "markdown",
   "metadata": {},
   "source": [
    "## 取得財政部Excel 連結"
   ]
  },
  {
   "cell_type": "code",
   "execution_count": 34,
   "metadata": {
    "collapsed": false
   },
   "outputs": [
    {
     "name": "stderr",
     "output_type": "stream",
     "text": [
      "C:\\Anaconda3\\lib\\site-packages\\requests\\packages\\urllib3\\connectionpool.py:821: InsecureRequestWarning: Unverified HTTPS request is being made. Adding certificate verification is strongly advised. See: https://urllib3.readthedocs.org/en/latest/security.html\n",
      "  InsecureRequestWarning)\n"
     ]
    }
   ],
   "source": [
    "import requests\n",
    "res = requests.get('https://www.mof.gov.tw/Pages/Detail.aspx?nodeid=281&pid=72221', verify=False)\n",
    "#res.text"
   ]
  },
  {
   "cell_type": "code",
   "execution_count": 40,
   "metadata": {
    "collapsed": false
   },
   "outputs": [
    {
     "name": "stdout",
     "output_type": "stream",
     "text": [
      "http://www.mof.gov.tw/File/Attach/72221/File_8550.xls\n",
      "http://www.mof.gov.tw/File/Attach/72221/File_8549.ods\n",
      "http://www.mof.gov.tw/File/Attach/72221/File_8552.xls\n",
      "http://www.mof.gov.tw/File/Attach/72221/File_8551.ods\n",
      "http://www.mof.gov.tw/File/Attach/72221/File_8554.xls\n",
      "http://www.mof.gov.tw/File/Attach/72221/File_8553.ods\n",
      "http://www.mof.gov.tw/File/Attach/72221/File_8556.xls\n",
      "http://www.mof.gov.tw/File/Attach/72221/File_8555.ods\n",
      "http://www.mof.gov.tw/File/Attach/72221/File_8558.xls\n",
      "http://www.mof.gov.tw/File/Attach/72221/File_8557.ods\n",
      "http://www.mof.gov.tw/File/Attach/72221/File_8560.xls\n",
      "http://www.mof.gov.tw/File/Attach/72221/File_8559.ods\n",
      "http://www.mof.gov.tw/File/Attach/72221/File_8562.xls\n",
      "http://www.mof.gov.tw/File/Attach/72221/File_8561.ods\n",
      "http://www.mof.gov.tw/File/Attach/72221/File_8564.xls\n",
      "http://www.mof.gov.tw/File/Attach/72221/File_8563.ods\n",
      "http://www.mof.gov.tw/File/Attach/72221/File_8566.xls\n",
      "http://www.mof.gov.tw/File/Attach/72221/File_8565.ods\n",
      "http://www.mof.gov.tw/File/Attach/72221/File_8568.xls\n",
      "http://www.mof.gov.tw/File/Attach/72221/File_8567.ods\n",
      "http://www.mof.gov.tw/File/Attach/72221/File_8570.xls\n",
      "http://www.mof.gov.tw/File/Attach/72221/File_8569.ods\n",
      "http://www.mof.gov.tw/File/Attach/72221/File_8572.xls\n",
      "http://www.mof.gov.tw/File/Attach/72221/File_8571.ods\n",
      "http://www.mof.gov.tw/File/Attach/72221/File_8574.xls\n",
      "http://www.mof.gov.tw/File/Attach/72221/File_8573.ods\n"
     ]
    }
   ],
   "source": [
    "from bs4 import BeautifulSoup\n",
    "soup = BeautifulSoup(res.text, 'html.parser')\n",
    "for link in soup.select('.1 a'):\n",
    "    print(link['href'])"
   ]
  },
  {
   "cell_type": "code",
   "execution_count": 47,
   "metadata": {
    "collapsed": false
   },
   "outputs": [],
   "source": [
    "from bs4 import BeautifulSoup\n",
    "soup = BeautifulSoup(res.text, 'html.parser')\n",
    "for link in soup.select('.1 a'):\n",
    "    fileurl = link['href']\n",
    "    res2 = requests.get(fileurl)\n",
    "    filename = fileurl.split('/')[-1]\n",
    "    with open(filename, 'wb') as f:\n",
    "        f.write(res2.content)"
   ]
  },
  {
   "cell_type": "markdown",
   "metadata": {},
   "source": [
    "## Download Excel"
   ]
  },
  {
   "cell_type": "code",
   "execution_count": 41,
   "metadata": {
    "collapsed": true
   },
   "outputs": [],
   "source": [
    "import requests\n",
    "res2 = requests.get('http://www.mof.gov.tw/File/Attach/72221/File_8550.xls')\n",
    "with open('File_8550.xls', 'wb') as f:\n",
    "    f.write(res2.content)"
   ]
  },
  {
   "cell_type": "markdown",
   "metadata": {},
   "source": [
    "## Sample Parsing"
   ]
  },
  {
   "cell_type": "code",
   "execution_count": 52,
   "metadata": {
    "collapsed": false
   },
   "outputs": [
    {
     "name": "stderr",
     "output_type": "stream",
     "text": [
      "C:\\Anaconda3\\lib\\site-packages\\pandas\\core\\generic.py:1165: FutureWarning: The 'mysql' flavor with DBAPI connection is deprecated and will be removed in future versions. MySQL will be further supported with SQLAlchemy connectables.\n",
      "  chunksize=chunksize, dtype=dtype)\n"
     ]
    }
   ],
   "source": [
    "import pandas\n",
    "df = pandas.read_excel('File_8550.xls', skiprows=range(0,5), skip_footer=4)\n",
    "df.columns = ['yearmonth','importation','importation_annual','exportation','exportation_annual','import_export','import_export_annual']\n",
    "df\n",
    "\n",
    "import pymysql\n",
    "     \n",
    "# 連接到 MySQL\n",
    "db = pymysql.connect(host=\"localhost\", user=\"root\", \n",
    "                     passwd=\"test\", db=\"trade\",  charset='utf8')\n",
    "\n",
    "df.to_sql('trade_import_export2', \n",
    "                con = db, \n",
    "                flavor='mysql', \n",
    "                if_exists='append')"
   ]
  },
  {
   "cell_type": "markdown",
   "metadata": {},
   "source": [
    "## Apple Crawler"
   ]
  },
  {
   "cell_type": "code",
   "execution_count": 6,
   "metadata": {
    "collapsed": false
   },
   "outputs": [
    {
     "name": "stderr",
     "output_type": "stream",
     "text": [
      "C:\\Anaconda3\\lib\\site-packages\\bs4\\__init__.py:166: UserWarning: No parser was explicitly specified, so I'm using the best available HTML parser for this system (\"lxml\"). This usually isn't a problem, but if you run this code on another system, or in a different virtual environment, it may use a different parser and behave differently.\n",
      "\n",
      "To get rid of this warning, change this:\n",
      "\n",
      " BeautifulSoup([your markup])\n",
      "\n",
      "to this:\n",
      "\n",
      " BeautifulSoup([your markup], \"lxml\")\n",
      "\n",
      "  markup_type=markup_type))\n"
     ]
    },
    {
     "data": {
      "text/html": [
       "<div>\n",
       "<table border=\"1\" class=\"dataframe\">\n",
       "  <thead>\n",
       "    <tr style=\"text-align: right;\">\n",
       "      <th></th>\n",
       "      <th>0</th>\n",
       "      <th>1</th>\n",
       "      <th>2</th>\n",
       "    </tr>\n",
       "  </thead>\n",
       "  <tbody>\n",
       "    <tr>\n",
       "      <th>0</th>\n",
       "      <td>南市空污全國第一　環保局：7成污染源自境...(0)</td>\n",
       "      <td>政治</td>\n",
       "      <td>14:50</td>\n",
       "    </tr>\n",
       "    <tr>\n",
       "      <th>1</th>\n",
       "      <td>憂國際處境　呂秀蓮籲蔡英文：創造2017...(0)</td>\n",
       "      <td>政治</td>\n",
       "      <td>14:50</td>\n",
       "    </tr>\n",
       "    <tr>\n",
       "      <th>2</th>\n",
       "      <td>中國發射「碳衛星」　觀測二氧化碳循環(0)</td>\n",
       "      <td>國際</td>\n",
       "      <td>14:49</td>\n",
       "    </tr>\n",
       "    <tr>\n",
       "      <th>3</th>\n",
       "      <td>Fed害慘亞幣　韓元連7貶破1200大關(0)</td>\n",
       "      <td>財經</td>\n",
       "      <td>14:48</td>\n",
       "    </tr>\n",
       "    <tr>\n",
       "      <th>4</th>\n",
       "      <td>色男潛入檳榔攤　鹹豬手襲臀檳榔西施(0)</td>\n",
       "      <td>社會</td>\n",
       "      <td>14:47</td>\n",
       "    </tr>\n",
       "    <tr>\n",
       "      <th>5</th>\n",
       "      <td>皮草殘酷真相：水貂肛門過電　活剝貂皮(0)</td>\n",
       "      <td>動物</td>\n",
       "      <td>14:47</td>\n",
       "    </tr>\n",
       "    <tr>\n",
       "      <th>6</th>\n",
       "      <td>​蔡依林錦榮分手　網友意外扯出這個男人(0)</td>\n",
       "      <td>娛樂</td>\n",
       "      <td>14:47</td>\n",
       "    </tr>\n",
       "    <tr>\n",
       "      <th>7</th>\n",
       "      <td>我被外交掮客勒索50億(347)</td>\n",
       "      <td>論壇</td>\n",
       "      <td>14:44</td>\n",
       "    </tr>\n",
       "    <tr>\n",
       "      <th>8</th>\n",
       "      <td>震驚！　女警執勤遭擄　趴引擎蓋狂飆2K遭...(0)</td>\n",
       "      <td>社會</td>\n",
       "      <td>14:44</td>\n",
       "    </tr>\n",
       "    <tr>\n",
       "      <th>9</th>\n",
       "      <td>【壹週刊】VJ戀破局！  錦榮這段話早露...(0)</td>\n",
       "      <td>娛樂</td>\n",
       "      <td>14:44</td>\n",
       "    </tr>\n",
       "    <tr>\n",
       "      <th>10</th>\n",
       "      <td>【VJ分手】江柏樂上月預言玩完　錦榮還回...(496)</td>\n",
       "      <td>娛樂</td>\n",
       "      <td>14:43</td>\n",
       "    </tr>\n",
       "    <tr>\n",
       "      <th>11</th>\n",
       "      <td>【失算動畫】她嫁老25歲土豪　一毛遺產也...(31936)</td>\n",
       "      <td>國際</td>\n",
       "      <td>14:42</td>\n",
       "    </tr>\n",
       "    <tr>\n",
       "      <th>12</th>\n",
       "      <td>【壹週刊】提早送弟聖誕禮　江蕙救弟遭刺傷...(2647)</td>\n",
       "      <td>壹週刊</td>\n",
       "      <td>14:42</td>\n",
       "    </tr>\n",
       "    <tr>\n",
       "      <th>13</th>\n",
       "      <td>毒品針筒全丟馬桶　沖不走鐵證如山(140)</td>\n",
       "      <td>社會</td>\n",
       "      <td>14:42</td>\n",
       "    </tr>\n",
       "    <tr>\n",
       "      <th>14</th>\n",
       "      <td>陽明股東臨時會　通過減資160.04億元(192)</td>\n",
       "      <td>財經</td>\n",
       "      <td>14:40</td>\n",
       "    </tr>\n",
       "    <tr>\n",
       "      <th>15</th>\n",
       "      <td>寢具「法蝶」傳歇業　員工無奈：我們只能接...(1126)</td>\n",
       "      <td>生活</td>\n",
       "      <td>14:36</td>\n",
       "    </tr>\n",
       "    <tr>\n",
       "      <th>16</th>\n",
       "      <td>「紅薯夫婦」回來啦！徐玄鄭容和隔6年合體(360)</td>\n",
       "      <td>娛樂</td>\n",
       "      <td>14:35</td>\n",
       "    </tr>\n",
       "    <tr>\n",
       "      <th>17</th>\n",
       "      <td>【驚悚一刻】平交道柵欄故障　轎車遭火車拖...(906)</td>\n",
       "      <td>國際</td>\n",
       "      <td>14:33</td>\n",
       "    </tr>\n",
       "    <tr>\n",
       "      <th>18</th>\n",
       "      <td>【壹週刊】好友揭密！蔡依林、錦榮分手2原...(2237)</td>\n",
       "      <td>壹週刊</td>\n",
       "      <td>14:33</td>\n",
       "    </tr>\n",
       "    <tr>\n",
       "      <th>19</th>\n",
       "      <td>【VJ分手】舊愛蔡依林落單　周杰倫竟然....(6148)</td>\n",
       "      <td>娛樂</td>\n",
       "      <td>14:32</td>\n",
       "    </tr>\n",
       "    <tr>\n",
       "      <th>20</th>\n",
       "      <td>【GAME啥】《魔物獵人EXPLORE》...(89)</td>\n",
       "      <td>3C</td>\n",
       "      <td>14:32</td>\n",
       "    </tr>\n",
       "    <tr>\n",
       "      <th>21</th>\n",
       "      <td>疑憂鬱症纏身　女旅館燒炭自殺身亡(1159)</td>\n",
       "      <td>社會</td>\n",
       "      <td>14:31</td>\n",
       "    </tr>\n",
       "    <tr>\n",
       "      <th>22</th>\n",
       "      <td>兒童是如何發展性別和性別認同的？(292)</td>\n",
       "      <td>論壇</td>\n",
       "      <td>14:31</td>\n",
       "    </tr>\n",
       "    <tr>\n",
       "      <th>23</th>\n",
       "      <td>陸奢華鈦手機被踢爆　鈦根本很便宜(630)</td>\n",
       "      <td>國際</td>\n",
       "      <td>14:31</td>\n",
       "    </tr>\n",
       "    <tr>\n",
       "      <th>24</th>\n",
       "      <td>毒犯衝撞警車自撞　逃跑時摔斷下巴(480)</td>\n",
       "      <td>社會</td>\n",
       "      <td>14:30</td>\n",
       "    </tr>\n",
       "    <tr>\n",
       "      <th>25</th>\n",
       "      <td>利菁麻辣開錄　老公獻吻進貢鮮花素果(884)</td>\n",
       "      <td>娛樂</td>\n",
       "      <td>14:30</td>\n",
       "    </tr>\n",
       "    <tr>\n",
       "      <th>26</th>\n",
       "      <td>疑板模支撐不足釀5死　工人罵：「一直趕工...(1322)</td>\n",
       "      <td>社會</td>\n",
       "      <td>14:29</td>\n",
       "    </tr>\n",
       "    <tr>\n",
       "      <th>27</th>\n",
       "      <td>毒蟲通緝逃7年　吸完毒軟腳被逮(432)</td>\n",
       "      <td>社會</td>\n",
       "      <td>14:24</td>\n",
       "    </tr>\n",
       "    <tr>\n",
       "      <th>28</th>\n",
       "      <td>月亮杯來囉！　最快明年第1季可網購(829)</td>\n",
       "      <td>生活</td>\n",
       "      <td>14:24</td>\n",
       "    </tr>\n",
       "    <tr>\n",
       "      <th>29</th>\n",
       "      <td>聖多美斷交　許信良：無邦交國不影響台灣生...(942)</td>\n",
       "      <td>政治</td>\n",
       "      <td>14:23</td>\n",
       "    </tr>\n",
       "  </tbody>\n",
       "</table>\n",
       "</div>"
      ],
      "text/plain": [
       "                                 0    1      2\n",
       "0       南市空污全國第一　環保局：7成污染源自境...(0)   政治  14:50\n",
       "1       憂國際處境　呂秀蓮籲蔡英文：創造2017...(0)   政治  14:50\n",
       "2            中國發射「碳衛星」　觀測二氧化碳循環(0)   國際  14:49\n",
       "3          Fed害慘亞幣　韓元連7貶破1200大關(0)   財經  14:48\n",
       "4             色男潛入檳榔攤　鹹豬手襲臀檳榔西施(0)   社會  14:47\n",
       "5            皮草殘酷真相：水貂肛門過電　活剝貂皮(0)   動物  14:47\n",
       "6           ​蔡依林錦榮分手　網友意外扯出這個男人(0)   娛樂  14:47\n",
       "7                 我被外交掮客勒索50億(347)   論壇  14:44\n",
       "8       震驚！　女警執勤遭擄　趴引擎蓋狂飆2K遭...(0)   社會  14:44\n",
       "9       【壹週刊】VJ戀破局！  錦榮這段話早露...(0)   娛樂  14:44\n",
       "10    【VJ分手】江柏樂上月預言玩完　錦榮還回...(496)   娛樂  14:43\n",
       "11  【失算動畫】她嫁老25歲土豪　一毛遺產也...(31936)   國際  14:42\n",
       "12   【壹週刊】提早送弟聖誕禮　江蕙救弟遭刺傷...(2647)  壹週刊  14:42\n",
       "13           毒品針筒全丟馬桶　沖不走鐵證如山(140)   社會  14:42\n",
       "14       陽明股東臨時會　通過減資160.04億元(192)   財經  14:40\n",
       "15   寢具「法蝶」傳歇業　員工無奈：我們只能接...(1126)   生活  14:36\n",
       "16       「紅薯夫婦」回來啦！徐玄鄭容和隔6年合體(360)   娛樂  14:35\n",
       "17    【驚悚一刻】平交道柵欄故障　轎車遭火車拖...(906)   國際  14:33\n",
       "18   【壹週刊】好友揭密！蔡依林、錦榮分手2原...(2237)  壹週刊  14:33\n",
       "19   【VJ分手】舊愛蔡依林落單　周杰倫竟然....(6148)   娛樂  14:32\n",
       "20     【GAME啥】《魔物獵人EXPLORE》...(89)   3C  14:32\n",
       "21          疑憂鬱症纏身　女旅館燒炭自殺身亡(1159)   社會  14:31\n",
       "22           兒童是如何發展性別和性別認同的？(292)   論壇  14:31\n",
       "23           陸奢華鈦手機被踢爆　鈦根本很便宜(630)   國際  14:31\n",
       "24           毒犯衝撞警車自撞　逃跑時摔斷下巴(480)   社會  14:30\n",
       "25          利菁麻辣開錄　老公獻吻進貢鮮花素果(884)   娛樂  14:30\n",
       "26   疑板模支撐不足釀5死　工人罵：「一直趕工...(1322)   社會  14:29\n",
       "27            毒蟲通緝逃7年　吸完毒軟腳被逮(432)   社會  14:24\n",
       "28          月亮杯來囉！　最快明年第1季可網購(829)   生活  14:24\n",
       "29    聖多美斷交　許信良：無邦交國不影響台灣生...(942)   政治  14:23"
      ]
     },
     "execution_count": 6,
     "metadata": {},
     "output_type": "execute_result"
    }
   ],
   "source": [
    "import requests\n",
    "from bs4 import BeautifulSoup\n",
    "res = requests.get('http://www.appledaily.com.tw/realtimenews/section/new/')\n",
    "soup = BeautifulSoup(res.text)\n",
    "\n",
    "ary = []\n",
    "for rec in soup.select('.rtddt a'):\n",
    "    ary.append([rec.select('h1')[0].text, rec.select('h2')[0].text, rec.select('time')[0].text])\n",
    "    \n",
    "import pandas\n",
    "df = pandas.DataFrame(ary)\n",
    "df"
   ]
  },
  {
   "cell_type": "code",
   "execution_count": 7,
   "metadata": {
    "collapsed": true
   },
   "outputs": [],
   "source": [
    "df.to_excel('news.xlsx')"
   ]
  },
  {
   "cell_type": "code",
   "execution_count": null,
   "metadata": {
    "collapsed": true
   },
   "outputs": [],
   "source": []
  }
 ],
 "metadata": {
  "kernelspec": {
   "display_name": "Python [Root]",
   "language": "python",
   "name": "Python [Root]"
  },
  "language_info": {
   "codemirror_mode": {
    "name": "ipython",
    "version": 3
   },
   "file_extension": ".py",
   "mimetype": "text/x-python",
   "name": "python",
   "nbconvert_exporter": "python",
   "pygments_lexer": "ipython3",
   "version": "3.5.2"
  }
 },
 "nbformat": 4,
 "nbformat_minor": 0
}
