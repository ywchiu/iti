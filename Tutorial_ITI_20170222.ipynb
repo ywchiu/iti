{
 "cells": [
  {
   "cell_type": "markdown",
   "metadata": {},
   "source": [
    "## Country Code Conversion"
   ]
  },
  {
   "cell_type": "code",
   "execution_count": 2,
   "metadata": {
    "collapsed": false
   },
   "outputs": [
    {
     "data": {
      "text/plain": [
       "'736'"
      ]
     },
     "execution_count": 2,
     "metadata": {},
     "output_type": "execute_result"
    }
   ],
   "source": [
    "COUNTRY_CODE = {'Sudan (North + South)': '736', 'Bulgaria': '100', 'Tanzania, United Republic of': '834', 'Saint Vincent and the Grenadines': '670', 'Pitcairn': '612', 'Western Sahara': '732', 'Central African Republic': '140', 'Comoros': '174', 'Montenegro': '499', 'Barbados': '052', 'Gabon': '266', 'Bouvet Island': '074', 'Saint Helena': '654', 'Sri Lanka': '144', 'French South Antarctic Territories': '260', 'Vanuatu': '548', 'Taipei, Chinese': '490', 'Falkland Islands (Malvinas)': '238', 'Somalia': '706', 'Samoa': '882', 'Libya, State of': '434', 'Uruguay': '858', 'West Asia not elsewhere specified': '879', 'Christmas Islands': '162', 'Slovakia': '703', 'Andorra': '020', 'Denmark': '208', 'Djibouti': '262', 'Japan': '392', 'Burkina Faso': '854', 'Madagascar': '450', 'Romania': '642', 'Faroe Islands': '234', 'Trinidad and Tobago': '780', 'Tuvalu': '798', 'United Kingdom': '826', 'Seychelles': '690', 'Colombia': '170', 'Latvia': '428', 'Nepal': '524', 'French Polynesia': '258', 'Switzerland': '757', 'Chile': '152', 'Cayman Islands': '136', 'Mayotte': '175', 'Kenya': '404', 'Swaziland': '748', 'Guyana': '328', 'Sao Tome and Principe': '678', 'Centr.Amer.Com.Market (CACM) Nes': '471', 'Cambodia': '116', 'British Virgin Islands': '092', 'All': '-2', 'Maldives': '462', 'Europe Othr. Nes': '568', 'Croatia': '191', 'Honduras': '340', 'Guinea-Bissau': '624', 'Bahrain': '048', 'New Zealand': '554', 'Kiribati': '296', 'Azerbaijan': '031', 'Kazakhstan': '398', 'El Salvador': '222', 'Paraguay': '600', 'Eritrea': '232', 'Ecuador': '218', 'Aruba': '533', 'Marshall Islands': '584', 'Bolivia, Plurinational State of': '068', 'Ethiopia': '231', 'East Europe not elsewhere specified': '221', 'Saudi Arabia': '682', 'Norfolk Island': '574', 'Angola': '024', 'Norway': '579', 'Burundi': '108', 'St. Pierre and Miquelon': '666', 'British Indian Ocean Territories': '086', 'Lesotho': '426', 'Sierra Leone': '694', 'Bangladesh': '050', 'Macedonia, The Former Yugoslav Republic of': '807', 'Dominica': '212', 'Oman': '512', 'European Union Nes': '492', 'Guatemala': '320', 'Serbia and Montenegro': '891', 'Algeria': '012', 'New Caledonia': '540', \"Cote d'Ivoire\": '384', 'Asia not elsewhere specified': '946', 'Bhutan': '064', 'Serbia': '688', 'Timor-Leste': '626', 'Togo': '768', 'Afghanistan': '004', 'America not elsewhere specified': '636', 'North Africa not elsewhere specified': '290', 'Korea, Republic of': '410', 'Saint Kitts and Nevis': '659', 'Philippines': '608', 'Cyprus': '196', 'Guam': '316', 'Austria': '040', 'Thailand': '764', 'Brazil': '076', 'Russian Federation': '643', 'Neutral Zone': '536', 'China': '156', 'Cook Islands': '184', 'Egypt': '818', 'Pakistan': '586', 'Greece': '300', 'Tokelau': '772', 'Haiti': '332', 'South Africa': '710', 'Rwanda': '646', 'Armenia': '051', 'Suriname': '740', 'Viet Nam': '704', 'Ireland': '372', 'Benin': '204', 'Nauru': '520', 'Iraq': '368', 'Cabo Verde': '132', 'Wallis and Futuna Islands': '876', 'Malaysia': '458', 'Zambia': '894', 'Micronesia, Federated States of': '583', 'Cocos (Keeling) Islands': '166', 'Indonesia': '360', 'Gibraltar': '292', 'Lithuania': '440', 'Cameroon': '120', 'Argentina': '032', 'Israel': '376', 'Guinea': '324', 'Cuba': '192', 'Nicaragua': '558', 'Area Nes': '899', 'Nigeria': '566', 'Macao, China': '446', 'Senegal': '686', 'Uganda': '800', 'Singapore': '702', 'Costa Rica': '188', 'Mozambique': '508', 'Palestine, State of': '275', 'Fiji': '242', 'Bosnia and Herzegovina': '070', 'Belarus': '112', 'Turks and Caicos Islands': '796', 'Iran, Islamic Republic of': '364', 'Slovenia': '705', 'Albania': '008', 'Estonia': '233', 'Equatorial Guinea': '226', 'Saint Lucia': '662', 'Myanmar': '104', 'Montserrat': '500', 'Congo': '178', 'Netherlands': '528', 'Morocco': '504', 'Grenada': '308', 'Jordan': '400', 'North America and Central America, nes': '637', 'Czech Republic': '203', 'Kuwait': '414', 'Germany': '276', \"Korea, Democratic People's Republic of\": '408', 'Northern Mariana Islands': '580', 'Georgia': '268', 'India': '699', 'Uzbekistan': '860', 'Niger': '562', 'Finland': '246', 'Anguilla': '660', 'Netherlands Antilles': '530', 'Mauritania': '478', 'Iceland': '352', 'Brunei Darussalam': '096', 'Mongolia': '496', 'Tunisia': '788', 'Luxembourg': '442', 'Territory not allocated': '999', 'Palau': '585', 'Malta': '470', 'Tonga': '776', 'Kyrgyzstan': '417', 'Special categories': '839', 'Chad': '148', 'Belize': '084', 'Botswana': '072', 'France': '251', 'Jamaica': '388', 'British Antarctic Territories': '080', 'Portugal': '620', 'Free Zones': '838', 'Papua New Guinea': '598', 'Zimbabwe': '716', 'United States of America': '842', 'Ukraine': '804', \"Lao People's Democratic Republic\": '418', 'Hong Kong, China': '344', 'Tajikistan': '762', 'Venezuela, Bolivarian Republic of': '862', 'Ship stores and bunkers': '837', 'Italy': '381', 'Panama': '591', 'Turkmenistan': '795', 'Niue': '570', 'Liberia': '430', 'United Arab Emirates': '784', 'Syrian Arab Republic': '760', 'Peru': '604', 'Europe EFTA not elsewhere specified': '697', 'Mauritius': '480', 'Belgium': '056', 'Bahamas': '044', 'LAIA not elsewhere specified': '473', 'Malawi': '454', 'Antigua and Barbuda': '028', 'Hungary': '348', 'Moldova, Republic of': '498', 'Lebanon': '422', 'Spain': '724', 'Ghana': '288', 'Mexico': '484', 'Africa not elsewhere specified': '577', 'American Samoa': '016', 'Oceania Nes': '527', 'Turkey': '792', 'Congo, Democratic Republic of the': '180', 'Greenland': '304', 'Namibia': '516', 'Solomon Islands': '090', 'Dominican Republic': '214', 'United States Minor Outlying Islands': '849', 'Caribbean Nes': '129', 'Mali': '466', 'Sweden': '752', 'Canada': '124', 'Yemen': '887', 'Gambia': '270', 'Australia': '036', 'Qatar': '634', 'Poland': '616', 'Bermuda': '060'}\n",
    "COUNTRY_CODE.get('Sudan (North + South)')\n",
    "COUNTRY_CODE['Sudan (North + South)']"
   ]
  },
  {
   "cell_type": "code",
   "execution_count": 6,
   "metadata": {
    "collapsed": false
   },
   "outputs": [
    {
     "name": "stdout",
     "output_type": "stream",
     "text": [
      "wrong\n"
     ]
    }
   ],
   "source": [
    "print(COUNTRY_CODE.get('Sudan', 'wrong'))"
   ]
  },
  {
   "cell_type": "code",
   "execution_count": 10,
   "metadata": {
    "collapsed": false
   },
   "outputs": [],
   "source": [
    "import pandas\n",
    "df = pandas.read_csv('012_partner_E.csv')\n",
    "df['CCode'] = df['Country'].map(lambda e: COUNTRY_CODE.get(e, 'wrong'))"
   ]
  },
  {
   "cell_type": "code",
   "execution_count": 13,
   "metadata": {
    "collapsed": false
   },
   "outputs": [
    {
     "data": {
      "text/html": [
       "<div>\n",
       "<table border=\"1\" class=\"dataframe\">\n",
       "  <thead>\n",
       "    <tr style=\"text-align: right;\">\n",
       "      <th></th>\n",
       "      <th>Unnamed: 0</th>\n",
       "      <th>Country</th>\n",
       "      <th>Product Code</th>\n",
       "      <th>Partner</th>\n",
       "      <th>Value in 2001</th>\n",
       "      <th>Value in 2002</th>\n",
       "      <th>Value in 2003</th>\n",
       "      <th>Value in 2004</th>\n",
       "      <th>Value in 2005</th>\n",
       "      <th>Value in 2006</th>\n",
       "      <th>Value in 2007</th>\n",
       "      <th>Value in 2008</th>\n",
       "      <th>Value in 2009</th>\n",
       "      <th>Value in 2010</th>\n",
       "      <th>Value in 2011</th>\n",
       "      <th>Value in 2012</th>\n",
       "      <th>Value in 2013</th>\n",
       "      <th>Value in 2014</th>\n",
       "      <th>Value in 2015</th>\n",
       "      <th>CCode</th>\n",
       "    </tr>\n",
       "  </thead>\n",
       "  <tbody>\n",
       "    <tr>\n",
       "      <th>0</th>\n",
       "      <td>0</td>\n",
       "      <td>Uzbekistan</td>\n",
       "      <td>'TOTAL</td>\n",
       "      <td>Mexico</td>\n",
       "      <td>7995</td>\n",
       "      <td>10295</td>\n",
       "      <td>25430</td>\n",
       "      <td>156</td>\n",
       "      <td>12033.0</td>\n",
       "      <td>10481.0</td>\n",
       "      <td>4918.0</td>\n",
       "      <td>17419.0</td>\n",
       "      <td>4244.0</td>\n",
       "      <td>28338.0</td>\n",
       "      <td>12612</td>\n",
       "      <td>36026</td>\n",
       "      <td>52606.0</td>\n",
       "      <td>58862.0</td>\n",
       "      <td>15485.0</td>\n",
       "      <td>860</td>\n",
       "    </tr>\n",
       "    <tr>\n",
       "      <th>1</th>\n",
       "      <td>1</td>\n",
       "      <td>Uzbekistan</td>\n",
       "      <td>'1701</td>\n",
       "      <td>Mexico</td>\n",
       "      <td>0</td>\n",
       "      <td>0</td>\n",
       "      <td>0</td>\n",
       "      <td>0</td>\n",
       "      <td>0.0</td>\n",
       "      <td>0.0</td>\n",
       "      <td>0.0</td>\n",
       "      <td>0.0</td>\n",
       "      <td>0.0</td>\n",
       "      <td>12932.0</td>\n",
       "      <td>11085</td>\n",
       "      <td>8340</td>\n",
       "      <td>17092.0</td>\n",
       "      <td>21457.0</td>\n",
       "      <td>13285.0</td>\n",
       "      <td>860</td>\n",
       "    </tr>\n",
       "    <tr>\n",
       "      <th>2</th>\n",
       "      <td>2</td>\n",
       "      <td>Uzbekistan</td>\n",
       "      <td>'2711</td>\n",
       "      <td>Mexico</td>\n",
       "      <td>7030</td>\n",
       "      <td>9614</td>\n",
       "      <td>10419</td>\n",
       "      <td>0</td>\n",
       "      <td>0.0</td>\n",
       "      <td>8615.0</td>\n",
       "      <td>3835.0</td>\n",
       "      <td>0.0</td>\n",
       "      <td>0.0</td>\n",
       "      <td>0.0</td>\n",
       "      <td>0</td>\n",
       "      <td>0</td>\n",
       "      <td>34280.0</td>\n",
       "      <td>37313.0</td>\n",
       "      <td>2138.0</td>\n",
       "      <td>860</td>\n",
       "    </tr>\n",
       "    <tr>\n",
       "      <th>3</th>\n",
       "      <td>3</td>\n",
       "      <td>Uzbekistan</td>\n",
       "      <td>'1704</td>\n",
       "      <td>Mexico</td>\n",
       "      <td>0</td>\n",
       "      <td>0</td>\n",
       "      <td>0</td>\n",
       "      <td>0</td>\n",
       "      <td>0.0</td>\n",
       "      <td>0.0</td>\n",
       "      <td>0.0</td>\n",
       "      <td>0.0</td>\n",
       "      <td>0.0</td>\n",
       "      <td>0.0</td>\n",
       "      <td>0</td>\n",
       "      <td>0</td>\n",
       "      <td>0.0</td>\n",
       "      <td>0.0</td>\n",
       "      <td>21.0</td>\n",
       "      <td>860</td>\n",
       "    </tr>\n",
       "    <tr>\n",
       "      <th>4</th>\n",
       "      <td>4</td>\n",
       "      <td>Uzbekistan</td>\n",
       "      <td>'5503</td>\n",
       "      <td>Mexico</td>\n",
       "      <td>0</td>\n",
       "      <td>0</td>\n",
       "      <td>0</td>\n",
       "      <td>0</td>\n",
       "      <td>0.0</td>\n",
       "      <td>0.0</td>\n",
       "      <td>0.0</td>\n",
       "      <td>0.0</td>\n",
       "      <td>0.0</td>\n",
       "      <td>0.0</td>\n",
       "      <td>0</td>\n",
       "      <td>0</td>\n",
       "      <td>0.0</td>\n",
       "      <td>0.0</td>\n",
       "      <td>16.0</td>\n",
       "      <td>860</td>\n",
       "    </tr>\n",
       "  </tbody>\n",
       "</table>\n",
       "</div>"
      ],
      "text/plain": [
       "   Unnamed: 0     Country Product Code Partner  Value in 2001  Value in 2002  \\\n",
       "0           0  Uzbekistan       'TOTAL  Mexico           7995          10295   \n",
       "1           1  Uzbekistan        '1701  Mexico              0              0   \n",
       "2           2  Uzbekistan        '2711  Mexico           7030           9614   \n",
       "3           3  Uzbekistan        '1704  Mexico              0              0   \n",
       "4           4  Uzbekistan        '5503  Mexico              0              0   \n",
       "\n",
       "   Value in 2003  Value in 2004  Value in 2005  Value in 2006  Value in 2007  \\\n",
       "0          25430            156        12033.0        10481.0         4918.0   \n",
       "1              0              0            0.0            0.0            0.0   \n",
       "2          10419              0            0.0         8615.0         3835.0   \n",
       "3              0              0            0.0            0.0            0.0   \n",
       "4              0              0            0.0            0.0            0.0   \n",
       "\n",
       "   Value in 2008  Value in 2009  Value in 2010  Value in 2011  Value in 2012  \\\n",
       "0        17419.0         4244.0        28338.0          12612          36026   \n",
       "1            0.0            0.0        12932.0          11085           8340   \n",
       "2            0.0            0.0            0.0              0              0   \n",
       "3            0.0            0.0            0.0              0              0   \n",
       "4            0.0            0.0            0.0              0              0   \n",
       "\n",
       "   Value in 2013  Value in 2014  Value in 2015 CCode  \n",
       "0        52606.0        58862.0        15485.0   860  \n",
       "1        17092.0        21457.0        13285.0   860  \n",
       "2        34280.0        37313.0         2138.0   860  \n",
       "3            0.0            0.0           21.0   860  \n",
       "4            0.0            0.0           16.0   860  "
      ]
     },
     "execution_count": 13,
     "metadata": {},
     "output_type": "execute_result"
    }
   ],
   "source": [
    "df.head()"
   ]
  },
  {
   "cell_type": "markdown",
   "metadata": {},
   "source": [
    "## SMTP"
   ]
  },
  {
   "cell_type": "code",
   "execution_count": null,
   "metadata": {
    "collapsed": true
   },
   "outputs": [],
   "source": [
    "import smtplib\n",
    "from email.MIMEMultipart import MIMEMultipart\n",
    "from email.MIMEText import MIMEText\n",
    " \n",
    "fromaddr = 'devops.largitdata@gmail.com'\n",
    "toaddr   = 'david@largitdata.com'\n",
    "msg = MIMEMultipart()\n",
    "msg['From'] = fromaddr\n",
    "msg['To']   = toaddr\n",
    "msg['Subject'] = '[匯率觸價通知]'\n",
    "import sqlite3, pandas\n",
    "with sqlite3.connect('C:\\\\Users\\\\User\\\\currency.sqlite') as db:\n",
    "    df = pandas.read_sql_query(r'select * from currency where \"幣別\" = \"JPY\" order by Date limit 1'.decode('utf-8'), con = db)\n",
    "\n",
    "#body = 'hello world'\n",
    "msg.attach(MIMEText(df.to_html().encode('utf-8'), 'html'))\n",
    " \n",
    "server = smtplib.SMTP('smtp.gmail.com', 587)\n",
    "server.starttls()\n",
    "server.login(fromaddr, PASSWD)\n",
    "text = msg.as_string()\n",
    "server.sendmail(fromaddr, toaddr, text)\n",
    "server.quit()"
   ]
  },
  {
   "cell_type": "code",
   "execution_count": 26,
   "metadata": {
    "collapsed": false
   },
   "outputs": [
    {
     "name": "stderr",
     "output_type": "stream",
     "text": [
      "C:\\Anaconda3\\lib\\site-packages\\pandas\\core\\generic.py:1165: FutureWarning: The 'mysql' flavor with DBAPI connection is deprecated and will be removed in future versions. MySQL will be further supported with SQLAlchemy connectables.\n",
      "  chunksize=chunksize, dtype=dtype)\n"
     ]
    }
   ],
   "source": [
    "import pymysql\n",
    "     \n",
    "# 連接到 MySQL\n",
    "db = pymysql.connect(host=\"localhost\", user=\"root\", \n",
    "                     passwd=\"test\", db=\"trade\",  charset='utf8')\n",
    "df.to_sql('trade_test', \n",
    "                con = db, \n",
    "                flavor='mysql', \n",
    "                if_exists='append', chunksize = 10000)\n",
    "db.close()\n"
   ]
  },
  {
   "cell_type": "markdown",
   "metadata": {},
   "source": [
    "## Hidemyass\n",
    "- http://proxylist.hidemyass.com/2"
   ]
  },
  {
   "cell_type": "code",
   "execution_count": 31,
   "metadata": {
    "collapsed": false
   },
   "outputs": [],
   "source": [
    "import requests\n",
    "proxies = {\n",
    "    'http':'91.196.230.66:3128'\n",
    "}\n",
    "res = requests.get('http://www.largitdata.com', proxies = proxies)\n",
    "#print(res.text)"
   ]
  }
 ],
 "metadata": {
  "anaconda-cloud": {},
  "kernelspec": {
   "display_name": "Python [Root]",
   "language": "python",
   "name": "Python [Root]"
  },
  "language_info": {
   "codemirror_mode": {
    "name": "ipython",
    "version": 3
   },
   "file_extension": ".py",
   "mimetype": "text/x-python",
   "name": "python",
   "nbconvert_exporter": "python",
   "pygments_lexer": "ipython3",
   "version": "3.5.2"
  }
 },
 "nbformat": 4,
 "nbformat_minor": 0
}
