{
 "cells": [
  {
   "cell_type": "code",
   "execution_count": 2,
   "metadata": {
    "collapsed": false
   },
   "outputs": [
    {
     "name": "stderr",
     "output_type": "stream",
     "text": [
      "C:\\Anaconda3\\lib\\site-packages\\requests\\packages\\urllib3\\connectionpool.py:821: InsecureRequestWarning: Unverified HTTPS request is being made. Adding certificate verification is strongly advised. See: https://urllib3.readthedocs.org/en/latest/security.html\n",
      "  InsecureRequestWarning)\n"
     ]
    }
   ],
   "source": [
    "import requests\n",
    "payload = {\n",
    "'searchInfo.StartYear':'105',\n",
    "'searchInfo.EndYear':'',\n",
    "'searchInfo.StartMonth':'1',\n",
    "'searchInfo.EndMonth':'1',\n",
    "'searchInfo.TypePort':'1',\n",
    "'searchInfo.TypeTime':'0',\n",
    "'searchInfo.goodsType':'11',\n",
    "'searchInfo.goodsCodeGroup':'0901110000,0901220000',\n",
    "'searchInfo.CountryName':'全部國家合計,阿富汗,阿爾巴尼亞,阿爾及利亞,美屬薩摩亞,安道爾,安哥拉,安圭拉,安地卡,阿根廷,亞美尼亞,澳大利亞,奧地利,亞塞拜然,巴哈馬,巴林,孟加拉,巴貝多,白俄羅斯,比利時,貝里斯,貝南,不丹,玻利維亞,波士尼亞赫塞哥維納,波札那,未列名英屬中美洲領域,巴西,汶萊,保加利亞,布吉納法索,蒲隆地,柬埔寨,喀麥隆,加拿大,維德角,中非,查德,智利,中國大陸,哥倫比亞,葛摩聯盟,剛果,剛果民主共和國,哥斯大黎加,克羅埃西亞,古巴,賽普勒斯,捷克,捷克,象牙海岸,丹麥,吉布地,多米尼克,多明尼加,厄瓜多,埃及,薩爾瓦多,赤道幾內亞,厄利垂亞,愛沙尼亞,衣索比亞,未列名法屬中美洲領域,斐濟,芬蘭,法國,法屬圭亞那,加彭,甘比亞,喬治亞,德國,迦納,希臘,格陵蘭,格瑞那達,關島,瓜地馬拉,幾內亞,幾內亞比索,蓋亞那,海地,教廷,宏都拉斯,香港,匈牙利,冰島,印度,印尼,伊朗,伊拉克,愛爾蘭,以色列,義大利,牙買加,日本,約旦,哈薩克,肯亞,吉里巴斯,北韓,南韓,科威特,吉爾吉斯,寮國,拉脫維亞,黎巴嫩,賴索托,賴比瑞亞,利比亞,列支敦斯登,立陶宛,盧森堡,澳門,馬其頓,馬達加斯加,馬拉威,馬來西亞,馬爾地夫,馬利,馬爾他,馬紹爾群島共和國,茅利塔尼亞伊斯蘭共和國,模里西斯,馬約特,墨西哥,摩爾多瓦,摩納哥,蒙古,蒙特內哥羅共和國,蒙瑟拉特,摩洛哥,莫三比克,緬甸,納米比亞,諾魯,尼泊爾,荷蘭,納維斯,新克里多尼亞,紐西蘭,尼加拉瓜,尼日,奈及利亞,挪威,阿曼,其他非洲國家,其他亞洲國家,其他中美洲國家,其他歐洲國家,其他中東及近東國家,其他北美洲國家,其他大洋洲國家,其他南美洲國家,其他國家,巴基斯坦,帛琉,巴勒斯坦,巴拿馬,巴布亞紐幾內亞,巴拉圭,秘魯,菲律賓,波蘭,葡萄牙,波多黎各,卡達,羅馬尼亞,俄羅斯,盧安達,琉球,聖克里斯多福,聖露西亞,聖文森,薩摩亞,聖馬利諾,聖多美普林西比,沙烏地阿拉伯,塞內加爾,塞爾維亞,塞爾維亞與蒙特內哥羅,塞席爾,獅子山,新加坡,斯洛伐克,斯洛維尼亞,索羅門群島,索馬利亞,南非,南蘇丹,西班牙,斯里蘭卡,蘇丹,蘇利南,史瓦濟蘭,瑞典,瑞士,敘利亞,大溪地,塔吉克,坦尚尼亞,泰國,多哥,東加,千里達,土庫曼,突尼西亞,土耳其,吐瓦魯,蘇聯,烏干達,烏克蘭,阿拉伯聯合大公國,英國,美國,烏拉圭,未列名美屬中美洲領域,未列名美屬太平洋領域,烏茲別克,萬那杜,委內瑞拉,越南,西撒哈拉,葉門,薩伊,尚比亞,辛巴威',\n",
    "'searchInfo.Type':'rbMoney1',\n",
    "'searchInfo.GroupType':'rbByGood',\n",
    "'searchInfo.showAllCny':'0',\n",
    "'searchInfo.allCny':'false',\n",
    "'noData':'false',\n",
    "'searchInfo.OrderType':'0'\n",
    "}\n",
    "res = requests.post('https://portal.sw.nat.gov.tw/APGA/GA03_csv', data = payload,verify=False)"
   ]
  },
  {
   "cell_type": "code",
   "execution_count": 3,
   "metadata": {
    "collapsed": true
   },
   "outputs": [],
   "source": [
    "with open('GA03.csv', 'wb') as f:\n",
    "    f.write(res.content)"
   ]
  },
  {
   "cell_type": "code",
   "execution_count": 5,
   "metadata": {
    "collapsed": true
   },
   "outputs": [],
   "source": [
    "import pandas"
   ]
  },
  {
   "cell_type": "code",
   "execution_count": 10,
   "metadata": {
    "collapsed": false
   },
   "outputs": [],
   "source": [
    "df = pandas.read_csv('GA03.csv', encoding='big5', skiprows=2)"
   ]
  },
  {
   "cell_type": "code",
   "execution_count": 13,
   "metadata": {
    "collapsed": false
   },
   "outputs": [
    {
     "data": {
      "text/plain": [
       "Index(['日期', ''貨品分類'', '中文貨名', '英文貨名', '國家', '數量', '數量單位', '重量', '重量單位', '價值'], dtype='object')"
      ]
     },
     "execution_count": 13,
     "metadata": {},
     "output_type": "execute_result"
    }
   ],
   "source": [
    "df.columns"
   ]
  },
  {
   "cell_type": "code",
   "execution_count": 14,
   "metadata": {
    "collapsed": true
   },
   "outputs": [],
   "source": [
    "df.columns = ['Date','Commodity_code','Description_of_Good_TW','Description_of_Good_EN' ,'Country_Area','Quantity','Unit_quantity','Weight','Unit_weight','Value']"
   ]
  },
  {
   "cell_type": "code",
   "execution_count": 17,
   "metadata": {
    "collapsed": false
   },
   "outputs": [
    {
     "name": "stderr",
     "output_type": "stream",
     "text": [
      "C:\\Anaconda3\\lib\\site-packages\\ipykernel\\__main__.py:1: FutureWarning: currently extract(expand=None) means expand=False (return Index/Series/DataFrame) but in a future version of pandas this will be changed to expand=True (return DataFrame)\n",
      "  if __name__ == '__main__':\n"
     ]
    },
    {
     "data": {
      "text/html": [
       "<div>\n",
       "<table border=\"1\" class=\"dataframe\">\n",
       "  <thead>\n",
       "    <tr style=\"text-align: right;\">\n",
       "      <th></th>\n",
       "      <th>0</th>\n",
       "      <th>1</th>\n",
       "    </tr>\n",
       "  </thead>\n",
       "  <tbody>\n",
       "    <tr>\n",
       "      <th>0</th>\n",
       "      <td>105</td>\n",
       "      <td>1</td>\n",
       "    </tr>\n",
       "    <tr>\n",
       "      <th>1</th>\n",
       "      <td>105</td>\n",
       "      <td>1</td>\n",
       "    </tr>\n",
       "    <tr>\n",
       "      <th>2</th>\n",
       "      <td>105</td>\n",
       "      <td>1</td>\n",
       "    </tr>\n",
       "    <tr>\n",
       "      <th>3</th>\n",
       "      <td>105</td>\n",
       "      <td>1</td>\n",
       "    </tr>\n",
       "    <tr>\n",
       "      <th>4</th>\n",
       "      <td>105</td>\n",
       "      <td>1</td>\n",
       "    </tr>\n",
       "    <tr>\n",
       "      <th>5</th>\n",
       "      <td>105</td>\n",
       "      <td>1</td>\n",
       "    </tr>\n",
       "    <tr>\n",
       "      <th>6</th>\n",
       "      <td>105</td>\n",
       "      <td>1</td>\n",
       "    </tr>\n",
       "    <tr>\n",
       "      <th>7</th>\n",
       "      <td>105</td>\n",
       "      <td>1</td>\n",
       "    </tr>\n",
       "    <tr>\n",
       "      <th>8</th>\n",
       "      <td>105</td>\n",
       "      <td>1</td>\n",
       "    </tr>\n",
       "    <tr>\n",
       "      <th>9</th>\n",
       "      <td>105</td>\n",
       "      <td>1</td>\n",
       "    </tr>\n",
       "    <tr>\n",
       "      <th>10</th>\n",
       "      <td>105</td>\n",
       "      <td>1</td>\n",
       "    </tr>\n",
       "    <tr>\n",
       "      <th>11</th>\n",
       "      <td>105</td>\n",
       "      <td>1</td>\n",
       "    </tr>\n",
       "    <tr>\n",
       "      <th>12</th>\n",
       "      <td>105</td>\n",
       "      <td>1</td>\n",
       "    </tr>\n",
       "    <tr>\n",
       "      <th>13</th>\n",
       "      <td>105</td>\n",
       "      <td>1</td>\n",
       "    </tr>\n",
       "    <tr>\n",
       "      <th>14</th>\n",
       "      <td>105</td>\n",
       "      <td>1</td>\n",
       "    </tr>\n",
       "    <tr>\n",
       "      <th>15</th>\n",
       "      <td>105</td>\n",
       "      <td>1</td>\n",
       "    </tr>\n",
       "    <tr>\n",
       "      <th>16</th>\n",
       "      <td>105</td>\n",
       "      <td>1</td>\n",
       "    </tr>\n",
       "    <tr>\n",
       "      <th>17</th>\n",
       "      <td>105</td>\n",
       "      <td>1</td>\n",
       "    </tr>\n",
       "    <tr>\n",
       "      <th>18</th>\n",
       "      <td>105</td>\n",
       "      <td>1</td>\n",
       "    </tr>\n",
       "    <tr>\n",
       "      <th>19</th>\n",
       "      <td>105</td>\n",
       "      <td>1</td>\n",
       "    </tr>\n",
       "    <tr>\n",
       "      <th>20</th>\n",
       "      <td>105</td>\n",
       "      <td>1</td>\n",
       "    </tr>\n",
       "    <tr>\n",
       "      <th>21</th>\n",
       "      <td>105</td>\n",
       "      <td>1</td>\n",
       "    </tr>\n",
       "    <tr>\n",
       "      <th>22</th>\n",
       "      <td>105</td>\n",
       "      <td>1</td>\n",
       "    </tr>\n",
       "    <tr>\n",
       "      <th>23</th>\n",
       "      <td>105</td>\n",
       "      <td>1</td>\n",
       "    </tr>\n",
       "    <tr>\n",
       "      <th>24</th>\n",
       "      <td>105</td>\n",
       "      <td>1</td>\n",
       "    </tr>\n",
       "    <tr>\n",
       "      <th>25</th>\n",
       "      <td>105</td>\n",
       "      <td>1</td>\n",
       "    </tr>\n",
       "    <tr>\n",
       "      <th>26</th>\n",
       "      <td>105</td>\n",
       "      <td>1</td>\n",
       "    </tr>\n",
       "    <tr>\n",
       "      <th>27</th>\n",
       "      <td>105</td>\n",
       "      <td>1</td>\n",
       "    </tr>\n",
       "    <tr>\n",
       "      <th>28</th>\n",
       "      <td>105</td>\n",
       "      <td>1</td>\n",
       "    </tr>\n",
       "    <tr>\n",
       "      <th>29</th>\n",
       "      <td>105</td>\n",
       "      <td>1</td>\n",
       "    </tr>\n",
       "    <tr>\n",
       "      <th>30</th>\n",
       "      <td>105</td>\n",
       "      <td>1</td>\n",
       "    </tr>\n",
       "    <tr>\n",
       "      <th>31</th>\n",
       "      <td>105</td>\n",
       "      <td>1</td>\n",
       "    </tr>\n",
       "    <tr>\n",
       "      <th>32</th>\n",
       "      <td>105</td>\n",
       "      <td>1</td>\n",
       "    </tr>\n",
       "    <tr>\n",
       "      <th>33</th>\n",
       "      <td>105</td>\n",
       "      <td>1</td>\n",
       "    </tr>\n",
       "    <tr>\n",
       "      <th>34</th>\n",
       "      <td>105</td>\n",
       "      <td>1</td>\n",
       "    </tr>\n",
       "    <tr>\n",
       "      <th>35</th>\n",
       "      <td>105</td>\n",
       "      <td>1</td>\n",
       "    </tr>\n",
       "    <tr>\n",
       "      <th>36</th>\n",
       "      <td>105</td>\n",
       "      <td>1</td>\n",
       "    </tr>\n",
       "    <tr>\n",
       "      <th>37</th>\n",
       "      <td>105</td>\n",
       "      <td>1</td>\n",
       "    </tr>\n",
       "    <tr>\n",
       "      <th>38</th>\n",
       "      <td>105</td>\n",
       "      <td>1</td>\n",
       "    </tr>\n",
       "  </tbody>\n",
       "</table>\n",
       "</div>"
      ],
      "text/plain": [
       "      0  1\n",
       "0   105  1\n",
       "1   105  1\n",
       "2   105  1\n",
       "3   105  1\n",
       "4   105  1\n",
       "5   105  1\n",
       "6   105  1\n",
       "7   105  1\n",
       "8   105  1\n",
       "9   105  1\n",
       "10  105  1\n",
       "11  105  1\n",
       "12  105  1\n",
       "13  105  1\n",
       "14  105  1\n",
       "15  105  1\n",
       "16  105  1\n",
       "17  105  1\n",
       "18  105  1\n",
       "19  105  1\n",
       "20  105  1\n",
       "21  105  1\n",
       "22  105  1\n",
       "23  105  1\n",
       "24  105  1\n",
       "25  105  1\n",
       "26  105  1\n",
       "27  105  1\n",
       "28  105  1\n",
       "29  105  1\n",
       "30  105  1\n",
       "31  105  1\n",
       "32  105  1\n",
       "33  105  1\n",
       "34  105  1\n",
       "35  105  1\n",
       "36  105  1\n",
       "37  105  1\n",
       "38  105  1"
      ]
     },
     "execution_count": 17,
     "metadata": {},
     "output_type": "execute_result"
    }
   ],
   "source": [
    "df['Date'].str.extract('(\\d+)年(\\d+)月  進口')"
   ]
  },
  {
   "cell_type": "code",
   "execution_count": 18,
   "metadata": {
    "collapsed": true
   },
   "outputs": [],
   "source": [
    "import re\n",
    "phone1 = '0912345678'\n",
    "phone2 = '0912-345678'\n",
    "phone3 = '0912-345-678'\n"
   ]
  },
  {
   "cell_type": "code",
   "execution_count": 20,
   "metadata": {
    "collapsed": false
   },
   "outputs": [
    {
     "name": "stdout",
     "output_type": "stream",
     "text": [
      "True\n"
     ]
    }
   ],
   "source": [
    "s  = 'apple'\n",
    "print(s=='apple')"
   ]
  },
  {
   "cell_type": "code",
   "execution_count": 25,
   "metadata": {
    "collapsed": false
   },
   "outputs": [
    {
     "data": {
      "text/plain": [
       "'a'"
      ]
     },
     "execution_count": 25,
     "metadata": {},
     "output_type": "execute_result"
    }
   ],
   "source": [
    "m = re.search('[abcdefghijklmnopqrstuvwxyz]', s) # a or b or ....z\n",
    "m.group(0)\n",
    "\n",
    "m = re.search('[a-z]', s) # [abcdefg...z]\n",
    "m.group(0)"
   ]
  },
  {
   "cell_type": "code",
   "execution_count": null,
   "metadata": {
    "collapsed": true
   },
   "outputs": [],
   "source": [
    "n = '3'\n",
    "m = re.search('[0123456789]', s) # 0 or 1 or 2 or 3... or 9\n",
    "m = re.search('[0-9]', s) # [0123456789]\n",
    "m = re.search('\\d', s) # [0-9]"
   ]
  },
  {
   "cell_type": "code",
   "execution_count": 26,
   "metadata": {
    "collapsed": true
   },
   "outputs": [],
   "source": [
    "a = 'Cat3Q'\n",
    "m = re.search('[a-zA-Z0-9]', s)\n",
    "m = re.search('\\w', s)"
   ]
  },
  {
   "cell_type": "code",
   "execution_count": 30,
   "metadata": {
    "collapsed": false
   },
   "outputs": [
    {
     "name": "stdout",
     "output_type": "stream",
     "text": [
      "!\n"
     ]
    }
   ],
   "source": [
    "s = '!_!'\n",
    "m = re.search('[!@#$%^&*]', s)\n",
    "m = re.search('[!@#$%^&*a-zA-Z0-9]', s)\n",
    "m = re.search('.', s)\n",
    "print(m.group(0))"
   ]
  },
  {
   "cell_type": "code",
   "execution_count": 31,
   "metadata": {
    "collapsed": false
   },
   "outputs": [
    {
     "name": "stdout",
     "output_type": "stream",
     "text": [
      "!_!\n"
     ]
    }
   ],
   "source": [
    "m = re.search('.{3}', s)\n",
    "print(m.group(0))"
   ]
  },
  {
   "cell_type": "code",
   "execution_count": 33,
   "metadata": {
    "collapsed": false
   },
   "outputs": [
    {
     "name": "stdout",
     "output_type": "stream",
     "text": [
      "~!_\n"
     ]
    }
   ],
   "source": [
    "s1 = '~!_!~'\n",
    "m = re.search('.{3}', s1)\n",
    "print(m.group(0))"
   ]
  },
  {
   "cell_type": "code",
   "execution_count": 35,
   "metadata": {
    "collapsed": false
   },
   "outputs": [
    {
     "name": "stdout",
     "output_type": "stream",
     "text": [
      "~!_!~\n"
     ]
    }
   ],
   "source": [
    "m = re.search('.{2,6}', s1)\n",
    "print(m.group(0))"
   ]
  },
  {
   "cell_type": "code",
   "execution_count": 36,
   "metadata": {
    "collapsed": false
   },
   "outputs": [
    {
     "name": "stdout",
     "output_type": "stream",
     "text": [
      "~!_!~\n"
     ]
    }
   ],
   "source": [
    "m = re.search('.{0,}', s1)\n",
    "m = re.search('.*', s1) # {0,}\n",
    "print(m.group(0))"
   ]
  },
  {
   "cell_type": "code",
   "execution_count": 37,
   "metadata": {
    "collapsed": false
   },
   "outputs": [
    {
     "name": "stdout",
     "output_type": "stream",
     "text": [
      "~!_!~\n"
     ]
    }
   ],
   "source": [
    "m = re.search('.{1,}', s1)\n",
    "m = re.search('.+', s1) # {1,}\n",
    "print(m.group(0))"
   ]
  },
  {
   "cell_type": "code",
   "execution_count": 38,
   "metadata": {
    "collapsed": false
   },
   "outputs": [
    {
     "name": "stdout",
     "output_type": "stream",
     "text": [
      "~\n"
     ]
    }
   ],
   "source": [
    "m = re.search('.{0,1}', s1)\n",
    "m = re.search('.?', s1) # {0,1}\n",
    "print(m.group(0))"
   ]
  },
  {
   "cell_type": "code",
   "execution_count": 42,
   "metadata": {
    "collapsed": false
   },
   "outputs": [
    {
     "name": "stdout",
     "output_type": "stream",
     "text": [
      "0912345678\n",
      "0912-345678\n",
      "0912-345-678\n"
     ]
    }
   ],
   "source": [
    "phones = ['0912345678', '0912-345678', '0912-345-678']\n",
    "for p in phones:\n",
    "    #m = re.match('09\\d{8}', p)\n",
    "    #m = re.match('09\\d{2}-{0,1}\\d{3}-{0,1}\\d{3}', p)\n",
    "    m = re.match('09\\d{2}-?\\d{3}-?\\d{3}', p)\n",
    "    print(m.group(0))"
   ]
  },
  {
   "cell_type": "code",
   "execution_count": null,
   "metadata": {
    "collapsed": true
   },
   "outputs": [],
   "source": []
  }
 ],
 "metadata": {
  "anaconda-cloud": {},
  "kernelspec": {
   "display_name": "Python [Root]",
   "language": "python",
   "name": "Python [Root]"
  },
  "language_info": {
   "codemirror_mode": {
    "name": "ipython",
    "version": 3
   },
   "file_extension": ".py",
   "mimetype": "text/x-python",
   "name": "python",
   "nbconvert_exporter": "python",
   "pygments_lexer": "ipython3",
   "version": "3.5.2"
  }
 },
 "nbformat": 4,
 "nbformat_minor": 0
}
